{
 "cells": [
  {
   "cell_type": "markdown",
   "id": "b697e0cb",
   "metadata": {},
   "source": [
    "# Data Preprocessing & Feature Engineering for Machine Learning (Housing Dataset)"
   ]
  },
  {
   "cell_type": "markdown",
   "id": "d3f11d1b",
   "metadata": {},
   "source": [
    "## Data Import and first Inspection"
   ]
  },
  {
   "cell_type": "markdown",
   "id": "21521a74",
   "metadata": {},
   "source": [
    "1. __Import__ the housing dataset (housing.csv) and __inspect__!"
   ]
  },
  {
   "cell_type": "code",
   "execution_count": null,
   "id": "70d4844b",
   "metadata": {},
   "outputs": [],
   "source": [
    "#inspect housing for more than 20000 districts\n",
    "import pandas as pd\n",
    "import matplotlib.pyplot as plt\n",
    "import numpy as np\n",
    "import seaborn as sns\n",
    "import scipy.stats as stats"
   ]
  },
  {
   "cell_type": "code",
   "execution_count": null,
   "id": "6f755fb3",
   "metadata": {},
   "outputs": [],
   "source": [
    "df=pd.read_csv('housing.csv')\n",
    "df\n",
    "#each and every row stands for district in california "
   ]
  },
  {
   "cell_type": "markdown",
   "id": "1229283a",
   "metadata": {},
   "source": [
    "__Features__:"
   ]
  },
  {
   "cell_type": "markdown",
   "id": "89bddc94",
   "metadata": {},
   "source": [
    "* **longitude:**  geographic coordinate (district´s east-west position)\n",
    "* **latitude:**  geographic coordinate (district´s north-south position)\n",
    "* **housing_median_age:** median age of houses in district\n",
    "* **total_rooms** Sum of all rooms in district\n",
    "* **total_bedrooms** Sum of all bedrooms in district\n",
    "* **population:** total population in district\n",
    "* **households:** total households in district\n",
    "* **median_income:** median household income in district \n",
    "* **median_house_value:** median house value in district\n",
    "* **ocean_proximity:** District´s proximity to the ocean"
   ]
  },
  {
   "cell_type": "code",
   "execution_count": null,
   "id": "ab2fd4c8",
   "metadata": {},
   "outputs": [],
   "source": [
    "df.info()\n",
    "#we have misisng values in total_bedrooms so check the column\n",
    "#object datatype is for text or categorical values"
   ]
  },
  {
   "cell_type": "code",
   "execution_count": null,
   "id": "0ea40fa6",
   "metadata": {},
   "outputs": [],
   "source": [
    "df[df.total_bedrooms.isna()]\n",
    "#checks the missing values in the column"
   ]
  },
  {
   "cell_type": "code",
   "execution_count": null,
   "id": "9b1ba84b",
   "metadata": {},
   "outputs": [],
   "source": [
    "df[df.duplicated()] #no duplicates\n"
   ]
  },
  {
   "cell_type": "code",
   "execution_count": null,
   "id": "5b2abd49",
   "metadata": {},
   "outputs": [],
   "source": [
    "#summary statistics on the numerical column \n",
    "df.describe()"
   ]
  },
  {
   "cell_type": "code",
   "execution_count": null,
   "id": "5d923838",
   "metadata": {},
   "outputs": [],
   "source": [
    "#include information on the text parameter by including 'O' object in include parameter\n",
    "df.describe(include=\"O\")"
   ]
  },
  {
   "cell_type": "code",
   "execution_count": null,
   "id": "b05c20f8",
   "metadata": {},
   "outputs": [],
   "source": [
    "df.ocean_proximity.value_counts()\n",
    "#only 5 districts are located on an island"
   ]
  },
  {
   "cell_type": "code",
   "execution_count": null,
   "id": "a262195f",
   "metadata": {},
   "outputs": [],
   "source": [
    "df.total_bedrooms.value_counts()"
   ]
  },
  {
   "cell_type": "code",
   "execution_count": null,
   "id": "6b23293f",
   "metadata": {},
   "outputs": [],
   "source": [
    "df.total_rooms.value_counts()\n",
    "#we have 18 districts with 1527 rooms"
   ]
  },
  {
   "cell_type": "code",
   "execution_count": null,
   "id": "5f64e466",
   "metadata": {},
   "outputs": [],
   "source": [
    "df.hist(bins=50,figsize=(20,14))\n",
    "plt.show()\n",
    "#create histogram for each numerical value"
   ]
  },
  {
   "cell_type": "markdown",
   "id": "443f81a9",
   "metadata": {},
   "source": [
    "## Data Cleaning and Creating additional Features"
   ]
  },
  {
   "cell_type": "markdown",
   "id": "48310bd4",
   "metadata": {},
   "source": [
    "2. __Drop__ all rows with (at least one) missing value(s)."
   ]
  },
  {
   "cell_type": "markdown",
   "id": "25130a77",
   "metadata": {},
   "source": [
    "3. __Add__ the additional Feature __\"rooms_per_household\"__ (should be self-explanatory)"
   ]
  },
  {
   "cell_type": "markdown",
   "id": "35423b83",
   "metadata": {},
   "source": [
    "4. __Add__ the additional Feature __\"population_per_household\"__ (should be self-explanatory)"
   ]
  },
  {
   "cell_type": "markdown",
   "id": "85b2d880",
   "metadata": {},
   "source": [
    "5. __Add__ the additional Feature __\"bedrooms_per_household\"__ (should be self-explanatory)"
   ]
  },
  {
   "cell_type": "code",
   "execution_count": null,
   "id": "8e24a045",
   "metadata": {},
   "outputs": [],
   "source": [
    "#only total_bedrooms column has missing value\n",
    "df.dropna(inplace=True) #drop the missing value"
   ]
  },
  {
   "cell_type": "code",
   "execution_count": null,
   "id": "9b92543d",
   "metadata": {},
   "outputs": [],
   "source": [
    "df.info()"
   ]
  },
  {
   "cell_type": "code",
   "execution_count": null,
   "id": "02af4072",
   "metadata": {},
   "outputs": [],
   "source": [
    "df[\"rooms_per_household\"]=df.total_rooms.div(df.households)"
   ]
  },
  {
   "cell_type": "code",
   "execution_count": null,
   "id": "cbe5216d",
   "metadata": {},
   "outputs": [],
   "source": [
    "df.rooms_per_household.nlargest(10)"
   ]
  },
  {
   "cell_type": "code",
   "execution_count": null,
   "id": "1b69a7c5",
   "metadata": {},
   "outputs": [],
   "source": [
    "df.rooms_per_household.nsmallest(10)\n",
    "#remove datapoints of extreme values"
   ]
  },
  {
   "cell_type": "code",
   "execution_count": null,
   "id": "9f062d01",
   "metadata": {},
   "outputs": [],
   "source": [
    "df.loc[[1914,5916,8219]]"
   ]
  },
  {
   "cell_type": "code",
   "execution_count": null,
   "id": "0aaa08af",
   "metadata": {},
   "outputs": [],
   "source": [
    "df[\"pop_per_household\"]=df.population.div(df.households)"
   ]
  },
  {
   "cell_type": "code",
   "execution_count": null,
   "id": "05529fcd",
   "metadata": {},
   "outputs": [],
   "source": [
    "df[\"bedrooms_per_household\"]=df.total_bedrooms.div(df.households)"
   ]
  },
  {
   "cell_type": "code",
   "execution_count": null,
   "id": "309b2d89",
   "metadata": {},
   "outputs": [],
   "source": [
    "#summary statistics\n",
    "df.describe()"
   ]
  },
  {
   "cell_type": "markdown",
   "id": "4ec1dc87",
   "metadata": {},
   "source": [
    "## Which Factors influence House Prices?"
   ]
  },
  {
   "cell_type": "markdown",
   "id": "bdd67870",
   "metadata": {},
   "source": [
    "6. __Calculate__ the __Correlation__ between \"median_house_value\" and all features. Which factors seems to influence house prices/values?"
   ]
  },
  {
   "cell_type": "markdown",
   "id": "b3e31999",
   "metadata": {},
   "source": [
    "7. __Create__ a Seaborn Regression plot (__jointplot__) with income on the x-axis and house value on the y-axis."
   ]
  },
  {
   "cell_type": "markdown",
   "id": "640dd8ec",
   "metadata": {},
   "source": [
    "8. __Create__ the following __scatterplot__ (df.plot(kind = \"scatter\")) with\n",
    "- longitude on x-axis\n",
    "- latitude on y-axis\n",
    "- size (s) of data points determined by population\n",
    "- color (c) of data points determined by median_house_value"
   ]
  },
  {
   "cell_type": "markdown",
   "id": "cb5a84ea",
   "metadata": {},
   "source": [
    "9. Does this look familiar to you? It´s California. Let´s __add the map__ of California saved in __california.png__."
   ]
  },
  {
   "cell_type": "code",
   "execution_count": null,
   "id": "0a32e86d",
   "metadata": {},
   "outputs": [],
   "source": [
    "df.median_house_value.hist(bins=100,figsize=(12,8))\n",
    "plt.show()"
   ]
  },
  {
   "cell_type": "code",
   "execution_count": null,
   "id": "0bd2f140",
   "metadata": {},
   "outputs": [],
   "source": [
    "df.corr()\n",
    "#gets a correlation matrix between pairs of features"
   ]
  },
  {
   "cell_type": "code",
   "execution_count": null,
   "id": "9ec6b118",
   "metadata": {},
   "outputs": [],
   "source": [
    "#correlation values between house value and features\n",
    "df.corr().median_house_value"
   ]
  },
  {
   "cell_type": "code",
   "execution_count": null,
   "id": "b34f1fac",
   "metadata": {},
   "outputs": [],
   "source": [
    "df.corr().median_house_value.sort_values(ascending=False)\n",
    "# - indicate strong negative correlation [no linear relationship] between that random variables\n",
    "# + indicate strong positive relation between that random variables\n",
    "# round of 0 indicate no relation between the random variables\n",
    "# we have positive relation between median_house_value and median_income-- higher income means more people can pay for the house\n",
    "# lower the no of bedrooms in the house -- higher the price of the house"
   ]
  },
  {
   "cell_type": "code",
   "execution_count": null,
   "id": "63f798c5",
   "metadata": {},
   "outputs": [],
   "source": [
    "df.median_income.hist(bins=100,figsize=(12,8))\n",
    "plt.show()"
   ]
  },
  {
   "cell_type": "code",
   "execution_count": null,
   "id": "1e0b6064",
   "metadata": {},
   "outputs": [],
   "source": [
    "sns.set(font_scale=1.5)\n",
    "sns.jointplot(data=df,x='median_income',y='median_house_value',kind='reg',height=10)\n",
    "plt.show()\n",
    "#regression plot with a linear regression line -- scatterplot with regression line \n",
    "# strong positive relations between house value and the income\n",
    "#higher the income -- higher the house prices"
   ]
  },
  {
   "cell_type": "code",
   "execution_count": null,
   "id": "af39ef2c",
   "metadata": {},
   "outputs": [],
   "source": [
    "#kernel density estimation kde\n",
    "sns.set(font_scale=1.5)\n",
    "sns.jointplot(data=df,x='median_income',y='median_house_value',kind='kde',height=10)\n",
    "plt.show()"
   ]
  },
  {
   "cell_type": "code",
   "execution_count": null,
   "id": "440f39d3",
   "metadata": {},
   "outputs": [],
   "source": [
    "#create a scatterplot with plot method \n",
    "# longitude on x-axis\n",
    "# latitude on y-axis\n",
    "# size (s) of data points determined by population\n",
    "# color (c) of data points determined by median_house_value\n",
    "df.plot(kind='scatter',x='longitude',y='latitude',\n",
    "        s=df.population/100,label='Population', figsize=(15,10),\n",
    "        c='median_house_value',cmap='coolwarm',colorbar=True,alpha=0.4,fontsize=15,sharex=False)\n",
    "plt.xlabel('Longitude',fontsize=14)\n",
    "plt.ylabel('Latitude',fontsize=14)\n",
    "plt.legend(fontsize=16)\n",
    "plt.show()\n",
    "\n",
    "#higher the population in a district, larger the datapoint "
   ]
  },
  {
   "cell_type": "code",
   "execution_count": null,
   "id": "6e4d9940",
   "metadata": {},
   "outputs": [],
   "source": [
    "#because the map looks like california, include the california image in the map \n",
    "import matplotlib.image as mpimage\n",
    "#mpimage.imread('california.png')\n",
    "california_img=mpimage.imread('california.png')\n",
    "#reads the file from an image into an array\n"
   ]
  },
  {
   "cell_type": "code",
   "execution_count": null,
   "id": "d5426734",
   "metadata": {},
   "outputs": [],
   "source": [
    "california_img"
   ]
  },
  {
   "cell_type": "code",
   "execution_count": null,
   "id": "89994789",
   "metadata": {},
   "outputs": [],
   "source": [
    "plt.figure(figsize=(15,10))\n",
    "plt.imshow(california_img)\n",
    "plt.show()"
   ]
  },
  {
   "cell_type": "code",
   "execution_count": null,
   "id": "52776523",
   "metadata": {},
   "outputs": [],
   "source": [
    "#define new extent label\n",
    "plt.figure(figsize=(15,10))\n",
    "plt.imshow(california_img,extent=[-124.55,-113.80,32.45,42.05]) #search the coordinates\n",
    "plt.show()"
   ]
  },
  {
   "cell_type": "code",
   "execution_count": null,
   "id": "97279360",
   "metadata": {},
   "outputs": [],
   "source": [
    "#Analyse the complete data\n",
    "df.plot(kind='scatter',x='longitude',y='latitude',\n",
    "        s=df.population/100,label='Population', figsize=(15,10),\n",
    "        c='median_house_value',cmap='coolwarm',colorbar=True,alpha=0.4,fontsize=15,sharex=False)\n",
    "plt.imshow(california_img,extent=[-124.55,-113.80,32.45,42.05],alpha=0.5,cmap=plt.get_cmap('jet'))\n",
    "plt.xlabel('Longitude',fontsize=14)\n",
    "plt.ylabel('Latitude',fontsize=14)\n",
    "plt.legend(fontsize=16)\n",
    "plt.show()\n"
   ]
  },
  {
   "cell_type": "code",
   "execution_count": null,
   "id": "484ee495",
   "metadata": {},
   "outputs": [],
   "source": [
    "prox=df.ocean_proximity.unique()\n",
    "prox"
   ]
  },
  {
   "cell_type": "code",
   "execution_count": null,
   "id": "e06f62ca",
   "metadata": {},
   "outputs": [],
   "source": [
    "df_prox=df[df.ocean_proximity==prox[3]].copy() \n",
    "df_prox"
   ]
  },
  {
   "cell_type": "code",
   "execution_count": null,
   "id": "67f3539e",
   "metadata": {},
   "outputs": [],
   "source": [
    "#we are analysing the data for near ocean values\n",
    "df_prox.plot(kind='scatter',x='longitude',y='latitude',\n",
    "            s=df_prox.population/100,label='Population',figsize=(15,10),\n",
    "            c='median_house_value',cmap='coolwarm',\n",
    "            colorbar=True,alpha=0.4,fontsize=20,sharex=False)\n",
    "plt.imshow(california_img,extent=[-124.55,-113.80,32.45,42.05],alpha=0.5,cmap=plt.get_cmap('jet'))\n",
    "plt.xlabel('longitude',fontsize=14)\n",
    "plt.ylabel('latitude',fontsize=14)\n",
    "plt.legend(fontsize=16)\n",
    "plt.show()\n"
   ]
  },
  {
   "cell_type": "code",
   "execution_count": null,
   "id": "3745a1b5",
   "metadata": {},
   "outputs": [],
   "source": [
    "#analyse the data for inland \n",
    "df_prox1=df[df.ocean_proximity==prox[2]].copy()\n",
    "df_prox1"
   ]
  },
  {
   "cell_type": "code",
   "execution_count": null,
   "id": "e2345c88",
   "metadata": {},
   "outputs": [],
   "source": [
    "df_prox1.plot(kind='scatter',x='longitude',y='latitude',\n",
    "              s=df_prox1.population/100,label='Population',figsize=(15,10),\n",
    "              c='median_house_value',cmap='coolwarm',\n",
    "              colorbar=True,alpha=0.4,fontsize=20,sharex=False)\n",
    "plt.imshow(california_img,extent=[-124.55,-113.80,32.45,42.05],alpha=0.5,cmap=plt.get_cmap('jet'))\n",
    "\n",
    "plt.xlabel('latitude',fontsize=14)\n",
    "plt.ylabel('longitude',fontsize=15)\n",
    "plt.legend(fontsize=16)\n",
    "plt.show()\n",
    "#there is a relationship between latitude/longitude and prices but no linear relationship\n",
    "# no clear linear relationship between latitude, longitude and house prices"
   ]
  },
  {
   "cell_type": "markdown",
   "id": "d5a06b53",
   "metadata": {},
   "source": [
    "## Advanced Explanatory Data Analyis with Seaborn"
   ]
  },
  {
   "cell_type": "markdown",
   "id": "337ad25a",
   "metadata": {},
   "source": [
    "10. __Add__ the additional column __\"income_cat\"__ with the following income categories:\n",
    "- lowest 25% -> \"Low\"\n",
    "- 25th to 50th percentile -> \"Below_Average\"\n",
    "- 50th to 75th percentile -> \"Above_Average\"\n",
    "- 75th to 95th percentile -> \"High\"\n",
    "- Above 95th percentile -> \"Very High\""
   ]
  },
  {
   "cell_type": "markdown",
   "id": "897e77e1",
   "metadata": {},
   "source": [
    "11. __Create__ (and interpret) the following Seaborn __Countplots__:"
   ]
  },
  {
   "cell_type": "markdown",
   "id": "6b4c209e",
   "metadata": {},
   "source": [
    "12. __Create__ (and interpret) the following Seaborn __Heatmap__ with mean house values for all combinations of income_cat & ocean_proximity:"
   ]
  },
  {
   "cell_type": "code",
   "execution_count": null,
   "id": "b72bf645",
   "metadata": {},
   "outputs": [],
   "source": [
    "df.median_income.hist(bins=50,figsize=(15,10))\n",
    "plt.title('Median Income')\n",
    "plt.show()\n"
   ]
  },
  {
   "cell_type": "code",
   "execution_count": null,
   "id": "985a969c",
   "metadata": {},
   "outputs": [],
   "source": [
    "pd.qcut(df.median_income,q=[0,0.25,0.50,0.75,0.95,1]) \n",
    "#discritization of bining \n",
    "#convert numerical value into categorical value\n",
    "#qcut -- q stands for quantile\n",
    "#define the quantile or percentile --> 25 per lowest district are organized in first bin 0,0.25 ie 25th percentile\n",
    "#next bin from 0.25 to 0.50 ie 25 th to 50th percentile and so on.\n",
    "#output gives 5 interval"
   ]
  },
  {
   "cell_type": "code",
   "execution_count": null,
   "id": "59858573",
   "metadata": {},
   "outputs": [],
   "source": [
    "df[\"income_cut\"]=pd.qcut(df.median_income,q=[0,0.25,0.50,0.75,0.95,1],labels=['low','Below Average','Above Average','High','Very High'])\n",
    "df[\"income_cut\"]"
   ]
  },
  {
   "cell_type": "code",
   "execution_count": null,
   "id": "7efd4bcf",
   "metadata": {},
   "outputs": [],
   "source": [
    "df.income_cut.value_counts(normalize=True)\n",
    "#normalize=True gives relative count rather than absolute count\n",
    "#25 per for above average, 25 per for low "
   ]
  },
  {
   "cell_type": "code",
   "execution_count": null,
   "id": "70c3599d",
   "metadata": {},
   "outputs": [],
   "source": [
    "plt.figure(figsize=(12,8))\n",
    "sns.set(font_scale=1.5,palette='viridis')\n",
    "sns.countplot(data=df,x='income_cut',hue='ocean_proximity')\n",
    "plt.legend(loc=1)\n",
    "plt.show()"
   ]
  },
  {
   "cell_type": "code",
   "execution_count": null,
   "id": "3780bccb",
   "metadata": {},
   "outputs": [],
   "source": [
    "plt.figure(figsize=(12,8))\n",
    "sns.set(font_scale=1.5)\n",
    "sns.barplot(data=df,x='income_cut',y='median_house_value',dodge=True)\n",
    "plt.show()\n",
    "#higher the median_income in the district, higher the house value"
   ]
  },
  {
   "cell_type": "code",
   "execution_count": null,
   "id": "335acd8c",
   "metadata": {},
   "outputs": [],
   "source": [
    "plt.figure(figsize=(12,8))\n",
    "sns.set(font_scale=1.5)\n",
    "sns.barplot(data=df,x='ocean_proximity',y='median_house_value',dodge=True)\n",
    "plt.show()\n",
    "#median_house_value of the houses located in inland are clearly lower\n",
    "#height of the bar are points estimates of the median house value,\n",
    "#small black lines show 95 per confidence interval"
   ]
  },
  {
   "cell_type": "code",
   "execution_count": null,
   "id": "b7b6a6a0",
   "metadata": {},
   "outputs": [],
   "source": [
    "matrix=df.groupby([\"income_cut\",\"ocean_proximity\"]).median_house_value.mean()\n",
    "matrix"
   ]
  },
  {
   "cell_type": "code",
   "execution_count": null,
   "id": "2268eb52",
   "metadata": {},
   "outputs": [],
   "source": [
    "#group income_category and ocean_proximity \n",
    "matrix=df.groupby([\"income_cut\",\"ocean_proximity\"]).median_house_value.mean().unstack().drop(columns=['ISLAND'])\n",
    "#drop columns -->island --> because it has lessobservations \n"
   ]
  },
  {
   "cell_type": "code",
   "execution_count": null,
   "id": "7431b550",
   "metadata": {},
   "outputs": [],
   "source": [
    "matrix.astype('int') #make float into integers-- makes it easier to display"
   ]
  },
  {
   "cell_type": "code",
   "execution_count": null,
   "id": "129cec1c",
   "metadata": {},
   "outputs": [],
   "source": [
    "plt.figure(figsize=(12,8))\n",
    "sns.set(font_scale=1.4)\n",
    "sns.heatmap(matrix.astype('int'),cmap='Reds',annot=True,fmt='d',vmin=90000,vmax=470000)\n",
    "plt.show()\n",
    "#annot=True, displays values on the block, \n",
    "#fmt='d' displays values in the fomrat of 450000 (proper number format) if not written it gives 4.5e+0.5\n",
    "#minimum value of 90000 and maximum value of 470000 for median house value on the rightmost bar\n",
    "#light red indicates median house value of 100000 and dark red indicates median house value of 450000"
   ]
  },
  {
   "cell_type": "markdown",
   "id": "30e82e83",
   "metadata": {},
   "source": [
    "## Feature Engineering"
   ]
  },
  {
   "cell_type": "code",
   "execution_count": null,
   "id": "f3159792",
   "metadata": {},
   "outputs": [],
   "source": [
    "#we want to forecast the prices\n",
    "label=df.median_house_value.copy()\n",
    "label"
   ]
  },
  {
   "cell_type": "code",
   "execution_count": null,
   "id": "e8729ee6",
   "metadata": {},
   "outputs": [],
   "source": [
    "features=df.drop(columns=['median_house_value'])\n",
    "features\n",
    "#its not best to keep numerical features\n",
    "#many ML algorithms dont perform well with different scales\n",
    "#different ways to scale or normalize different features"
   ]
  },
  {
   "cell_type": "code",
   "execution_count": null,
   "id": "9ce762c7",
   "metadata": {},
   "outputs": [],
   "source": [
    "features.info()"
   ]
  },
  {
   "cell_type": "code",
   "execution_count": null,
   "id": "d740169a",
   "metadata": {},
   "outputs": [],
   "source": [
    "#select all columns with float \n",
    "features.select_dtypes('float')"
   ]
  },
  {
   "cell_type": "code",
   "execution_count": null,
   "id": "0c6f2720",
   "metadata": {},
   "outputs": [],
   "source": [
    "feat1=features.select_dtypes('float').apply(lambda x: stats.zscore(x))\n",
    "feat1\n",
    "#stats is an extensive statistical library\n",
    "#apply zscore on each and every column "
   ]
  },
  {
   "cell_type": "code",
   "execution_count": null,
   "id": "bd6c2e56",
   "metadata": {},
   "outputs": [],
   "source": [
    "#disply only two decimals \n",
    "pd.options.display.float_format='{:.2f}'.format"
   ]
  },
  {
   "cell_type": "code",
   "execution_count": null,
   "id": "cd8e35bb",
   "metadata": {},
   "outputs": [],
   "source": [
    "feat1"
   ]
  },
  {
   "cell_type": "code",
   "execution_count": null,
   "id": "e31f92f1",
   "metadata": {},
   "outputs": [],
   "source": [
    "#for each and every column,calculate the mean and standard deviation \n",
    "feat1.agg([\"mean\",\"std\"])\n",
    "#mean in every column is 0\n",
    "#std deviation in every column is 1\n",
    "#defination of standarizing the features --> we get mean of 0 and std deviation of 1\n",
    "#all columns have the same scale"
   ]
  },
  {
   "cell_type": "code",
   "execution_count": null,
   "id": "598c755e",
   "metadata": {},
   "outputs": [],
   "source": [
    "df.info()"
   ]
  },
  {
   "cell_type": "code",
   "execution_count": null,
   "id": "3a86efe1",
   "metadata": {},
   "outputs": [],
   "source": [
    "#ML cannot handle text or categorical data, we have to convert it into numbers\n",
    "#ocean_proximity and income_cut are two categorical features, but we will use only ocean_proximity \n",
    "features.ocean_proximity"
   ]
  },
  {
   "cell_type": "code",
   "execution_count": null,
   "id": "fe47b633",
   "metadata": {},
   "outputs": [],
   "source": [
    "features.ocean_proximity.value_counts()"
   ]
  },
  {
   "cell_type": "code",
   "execution_count": null,
   "id": "57da1cf9",
   "metadata": {},
   "outputs": [],
   "source": [
    "dummies=pd.get_dummies(features.ocean_proximity)\n",
    "dummies\n",
    "#features are converted into numbers by using one hot encoding\n",
    "#for each category, we create a separate column\n",
    "#dummies create redunant value of either 0s or  1s --> this leads to multicolinearity problem\n",
    "# some algorithms can be harmed by multicolinearity --> like linear regression, \n",
    "#in linear regression we need to use k-1 features, here we have 5 columns of dummy so use 5-1 columns of dummy\n",
    "# In random forest regression, keep all k features (all dummy variables )--> it is benefici"
   ]
  },
  {
   "cell_type": "code",
   "execution_count": null,
   "id": "33061b71",
   "metadata": {},
   "outputs": [],
   "source": [
    "features=pd.concat([feat1,dummies,df.income_cut],axis=1)\n",
    "features\n",
    "#axis=1 means horizontally concatenate all three data frames\n",
    "#features have standarized numerical columns, dummy variables and income_cut categorical values"
   ]
  },
  {
   "cell_type": "markdown",
   "id": "a34788a8",
   "metadata": {},
   "source": [
    "## Machine Learning - Predicting House Values "
   ]
  },
  {
   "cell_type": "markdown",
   "id": "23943bc3",
   "metadata": {},
   "source": [
    "Based on the Explanatory Data Analysis, <br>\n",
    "- select an appropriate ML Model (e.g. Linear Regression or RandomForest Regression)\n",
    "- split into Train and Test Set\n",
    "- prepare/engineer Features\n",
    "- Fit the Model (Train Set)\n",
    "- Test the Model (Test Set)"
   ]
  },
  {
   "cell_type": "markdown",
   "id": "dffc89af",
   "metadata": {},
   "source": [
    "## Splitting the Data into Train and Test set"
   ]
  },
  {
   "cell_type": "code",
   "execution_count": null,
   "id": "9d7219f0",
   "metadata": {
    "scrolled": true
   },
   "outputs": [],
   "source": [
    "features"
   ]
  },
  {
   "cell_type": "code",
   "execution_count": null,
   "id": "a222f15d",
   "metadata": {},
   "outputs": [],
   "source": [
    "#forecast the house prices for the data point our model has not seen before\n",
    "#have a test size of 20 %\n",
    "test_size=0.2"
   ]
  },
  {
   "cell_type": "code",
   "execution_count": null,
   "id": "9f18e71a",
   "metadata": {},
   "outputs": [],
   "source": [
    "#use pandas method 'sample' to draw a sample for test set\n",
    "X_test=features.sample(frac=test_size,random_state=123)\n",
    "X_test\n",
    "# X stands for features, y stands for labels\n",
    "# use of sample has a risk of introducing sampling bais means sample is not representative of whole dataset\n",
    "# eg - have low median_income in training_set and high median_income in test_set-- doesnt represent whole dataset -- this leads to a poor model\n",
    "#Stratified sampling --> all variables have same ratio in both training and test set"
   ]
  },
  {
   "cell_type": "code",
   "execution_count": null,
   "id": "8af4e04c",
   "metadata": {},
   "outputs": [],
   "source": [
    "#larger the dataset more simple random_state approaches the stratefied sampling\n",
    "#check whether we have strategied sampling, hence compare income_cut of test set and features\n",
    "#if both has values similar or nearly equal, random_state is OK"
   ]
  },
  {
   "cell_type": "code",
   "execution_count": null,
   "id": "a7bdc864",
   "metadata": {},
   "outputs": [],
   "source": [
    "X_test.income_cut.value_counts(normalize=True)"
   ]
  },
  {
   "cell_type": "code",
   "execution_count": null,
   "id": "fb10cce7",
   "metadata": {},
   "outputs": [],
   "source": [
    "features.income_cut.value_counts(normalize=True)"
   ]
  },
  {
   "cell_type": "code",
   "execution_count": null,
   "id": "892f6831",
   "metadata": {},
   "outputs": [],
   "source": [
    "X_test.index #get row_index for test_set "
   ]
  },
  {
   "cell_type": "code",
   "execution_count": null,
   "id": "5adb5791",
   "metadata": {},
   "outputs": [],
   "source": [
    "#lets create the training set\n",
    "#check if the row_index from test set is in features\n",
    "#if the row_index is not in test set than copy that row in training set\n",
    "X_train=features.loc[~features.index.isin(X_test.index)].copy()\n",
    "X_train"
   ]
  },
  {
   "cell_type": "code",
   "execution_count": null,
   "id": "0dfd381a",
   "metadata": {},
   "outputs": [],
   "source": [
    "X_train.income_cut.value_counts(normalize=True)"
   ]
  },
  {
   "cell_type": "code",
   "execution_count": null,
   "id": "ca02aa5d",
   "metadata": {},
   "outputs": [],
   "source": [
    "features.income_cut.value_counts(normalize=True) #check whether ratios are ok in both trainin and feature set"
   ]
  },
  {
   "cell_type": "code",
   "execution_count": null,
   "id": "f540fe4d",
   "metadata": {},
   "outputs": [],
   "source": [
    "#shuffle the training set--> rows and training set are randomly ordered \n",
    "#shuffle the training set by using the sample method \n",
    "X_train=X_train.sample(frac=1,random_state=123)\n",
    "X_train\n",
    "#using sample method and frac=1 we are drawing all rows in random order and overwritting X_train"
   ]
  },
  {
   "cell_type": "code",
   "execution_count": null,
   "id": "1485ea6a",
   "metadata": {},
   "outputs": [],
   "source": [
    "X_train.drop(columns=['income_cut'],inplace=True)\n"
   ]
  },
  {
   "cell_type": "code",
   "execution_count": null,
   "id": "46d54690",
   "metadata": {},
   "outputs": [],
   "source": [
    "X_test.drop(columns=['income_cut'],inplace=True)"
   ]
  },
  {
   "cell_type": "code",
   "execution_count": null,
   "id": "ba31b452",
   "metadata": {},
   "outputs": [],
   "source": [
    "X_train\n"
   ]
  },
  {
   "cell_type": "code",
   "execution_count": null,
   "id": "5d1f5881",
   "metadata": {},
   "outputs": [],
   "source": [
    "X_test"
   ]
  },
  {
   "cell_type": "code",
   "execution_count": null,
   "id": "21fe42a5",
   "metadata": {},
   "outputs": [],
   "source": [
    "label.loc[X_train.index]  #label is median_house_value \n",
    "#X_train.index gives row index for the training set"
   ]
  },
  {
   "cell_type": "code",
   "execution_count": null,
   "id": "73da5744",
   "metadata": {},
   "outputs": [],
   "source": [
    "y_train=label.loc[X_train.index]"
   ]
  },
  {
   "cell_type": "code",
   "execution_count": null,
   "id": "cf0fe35e",
   "metadata": {},
   "outputs": [],
   "source": [
    "y_test=label.loc[X_test.index]"
   ]
  },
  {
   "cell_type": "code",
   "execution_count": null,
   "id": "975aefb9",
   "metadata": {},
   "outputs": [],
   "source": [
    "y_train"
   ]
  },
  {
   "cell_type": "code",
   "execution_count": null,
   "id": "a87e5e00",
   "metadata": {},
   "outputs": [],
   "source": [
    "y_test"
   ]
  },
  {
   "cell_type": "markdown",
   "id": "ebbacb52",
   "metadata": {},
   "source": [
    "## Training the ML model (Random Forest Regressor)"
   ]
  },
  {
   "cell_type": "code",
   "execution_count": null,
   "id": "03b536d2",
   "metadata": {},
   "outputs": [],
   "source": [
    "#house_prices are influenced in a non linear way\n",
    "#location of house & prices have no linear relationship\n",
    "#hence, use model that capture non-linear relationship. RandomForestRegressor is such a model \n",
    "#RandomForestRegressor can capture non-linear relationship\n",
    "from sklearn.ensemble import RandomForestRegressor "
   ]
  },
  {
   "cell_type": "code",
   "execution_count": null,
   "id": "195b609c",
   "metadata": {},
   "outputs": [],
   "source": [
    "forest_reg=RandomForestRegressor(random_state=42,n_estimators=500,max_features='sqrt',max_depth=75,min_samples_split=2)\n",
    "#hyperparameters tunning to optimize the model and reduce overfitting"
   ]
  },
  {
   "cell_type": "code",
   "execution_count": null,
   "id": "23fc7f9b",
   "metadata": {},
   "outputs": [],
   "source": [
    "forest_reg.fit(X_train,y_train)"
   ]
  },
  {
   "cell_type": "code",
   "execution_count": null,
   "id": "aeff9e44",
   "metadata": {},
   "outputs": [],
   "source": [
    "#check how well our model fits the training set, or how well our model predicts the house prices\n",
    "forest_reg.score(X_train,y_train)\n",
    "#if the fit is too good, it can indicate overfitting\n",
    "#we got high value of 97 per this indicates our regressor is overfitting "
   ]
  },
  {
   "cell_type": "code",
   "execution_count": null,
   "id": "9319c66e",
   "metadata": {},
   "outputs": [],
   "source": [
    "#lower the mean_squre_error closer to 0, the better the fit\n",
    "from sklearn.metrics import mean_squared_error"
   ]
  },
  {
   "cell_type": "code",
   "execution_count": null,
   "id": "b016c9cd",
   "metadata": {},
   "outputs": [],
   "source": [
    "#make predications on training set \n",
    "#mode makes predications on X_train and predict the labels and save in pred\n",
    "pred=forest_reg.predict(X_train)\n",
    "pred\n",
    "#pred is not the actual label or house prices, this are the predicated ones "
   ]
  },
  {
   "cell_type": "code",
   "execution_count": null,
   "id": "78431aee",
   "metadata": {},
   "outputs": [],
   "source": [
    "#find mean sqaure error by comparing actual/real labels with predicated labels\n",
    "forest_mse=mean_squared_error(y_train,pred)\n",
    "forest_rmse=np.sqrt(forest_mse)\n",
    "forest_rmse\n",
    "#with score of 0.975 and rmse=17974. , we conclude our model fits the data pretty well\n",
    "#still we cannot conclude our model generalises new cases or predict house prices for new data"
   ]
  },
  {
   "cell_type": "markdown",
   "id": "3b398acf",
   "metadata": {},
   "source": [
    "## Evaluating the model on the test set "
   ]
  },
  {
   "cell_type": "code",
   "execution_count": null,
   "id": "05045e33",
   "metadata": {},
   "outputs": [],
   "source": [
    "forest_reg"
   ]
  },
  {
   "cell_type": "code",
   "execution_count": null,
   "id": "a2e36009",
   "metadata": {},
   "outputs": [],
   "source": [
    "forest_reg.score(X_test,y_test)\n",
    "#score of 0.82 "
   ]
  },
  {
   "cell_type": "code",
   "execution_count": null,
   "id": "a317ad19",
   "metadata": {},
   "outputs": [],
   "source": [
    "#predict the labels for our test_set\n",
    "pred_y_test=forest_reg.predict(X_test)\n",
    "pred_y_test"
   ]
  },
  {
   "cell_type": "code",
   "execution_count": null,
   "id": "29c23563",
   "metadata": {},
   "outputs": [],
   "source": [
    "forest_pred_mse=mean_squared_error(y_test,pred_y_test)\n",
    "forest_pred_rmse=np.sqrt(forest_pred_mse)\n",
    "forest_pred_rmse\n",
    "#value of 47360"
   ]
  },
  {
   "cell_type": "code",
   "execution_count": null,
   "id": "55d36502",
   "metadata": {},
   "outputs": [],
   "source": [
    "#compare predicated values with true values\n",
    "comp=pd.DataFrame(data={'True_Values':y_test,'Predicated_Values':pred_y_test})\n",
    "comp"
   ]
  },
  {
   "cell_type": "code",
   "execution_count": null,
   "id": "d5b47708",
   "metadata": {},
   "outputs": [],
   "source": [
    "abs_diff=comp.True_Values.sub(comp.Predicated_Values).abs()\n",
    "abs_diff"
   ]
  },
  {
   "cell_type": "code",
   "execution_count": null,
   "id": "ea5a7293",
   "metadata": {},
   "outputs": [],
   "source": [
    "#calculate the mean absolute difference\n",
    "mean_abs_diff=abs_diff.mean()\n",
    "mean_abs_diff\n",
    "#received a value of 31664.\n",
    "#on average, expect there is a difference of over 30000 between predicated value and actual value"
   ]
  },
  {
   "cell_type": "markdown",
   "id": "521be6fd",
   "metadata": {},
   "source": [
    "## Feature importance"
   ]
  },
  {
   "cell_type": "code",
   "execution_count": null,
   "id": "32b7d67f",
   "metadata": {},
   "outputs": [],
   "source": [
    "#conclusion from explanatory analysis was income is the most important factor followed by location\n",
    "#randomforestregressor can give us relative important features for the model \n",
    "forest_reg.feature_importances_"
   ]
  },
  {
   "cell_type": "code",
   "execution_count": null,
   "id": "96b8abe3",
   "metadata": {},
   "outputs": [],
   "source": [
    "feature_imp=pd.Series(data=forest_reg.feature_importances_,index=X_train.columns).sort_values(ascending=False)\n",
    "feature_imp\n",
    "#feature name can be extracted from X_train"
   ]
  },
  {
   "cell_type": "code",
   "execution_count": null,
   "id": "aa268376",
   "metadata": {},
   "outputs": [],
   "source": [
    "feature_imp.sort_values().plot.barh(figsize=(12,8))\n",
    "plt.show()\n",
    "#barplot\n",
    "#median_income is the feature with highest importance\n",
    "#we can drop some unimportant features and rerun the model"
   ]
  },
  {
   "cell_type": "code",
   "execution_count": null,
   "id": "8ad255f0",
   "metadata": {},
   "outputs": [],
   "source": [
    "print('The End')"
   ]
  }
 ],
 "metadata": {
  "kernelspec": {
   "display_name": "Python 3 (ipykernel)",
   "language": "python",
   "name": "python3"
  },
  "language_info": {
   "codemirror_mode": {
    "name": "ipython",
    "version": 3
   },
   "file_extension": ".py",
   "mimetype": "text/x-python",
   "name": "python",
   "nbconvert_exporter": "python",
   "pygments_lexer": "ipython3",
   "version": "3.9.12"
  }
 },
 "nbformat": 4,
 "nbformat_minor": 5
}
